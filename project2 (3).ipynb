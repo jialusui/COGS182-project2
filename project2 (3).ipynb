{
  "nbformat": 4,
  "nbformat_minor": 0,
  "metadata": {
    "colab": {
      "name": "project2.ipynb",
      "provenance": [],
      "collapsed_sections": []
    },
    "kernelspec": {
      "display_name": "Python 3",
      "language": "python",
      "name": "python3"
    },
    "language_info": {
      "codemirror_mode": {
        "name": "ipython",
        "version": 3
      },
      "file_extension": ".py",
      "mimetype": "text/x-python",
      "name": "python",
      "nbconvert_exporter": "python",
      "pygments_lexer": "ipython3",
      "version": "3.7.6"
    }
  },
  "cells": [
    {
      "cell_type": "code",
      "metadata": {
        "id": "WQG29xdW-b-D"
      },
      "source": [
        "import numpy as np\n",
        "import random\n",
        "import pandas as pd\n",
        "from tqdm import tqdm\n",
        "import random"
      ],
      "execution_count": 1,
      "outputs": []
    },
    {
      "cell_type": "code",
      "metadata": {
        "id": "hmgcsQQK-b-T"
      },
      "source": [
        "pd.set_option('display.max_colwidth', None)"
      ],
      "execution_count": 2,
      "outputs": []
    },
    {
      "cell_type": "markdown",
      "metadata": {
        "id": "vHuBi-q-FgHC"
      },
      "source": [
        "### 1. Draw method ###"
      ]
    },
    {
      "cell_type": "code",
      "metadata": {
        "id": "NqOS7jby-b-T"
      },
      "source": [
        "#method to set up initial conditions\n",
        "#types:1,2,3,4\n",
        "def draw():\n",
        "    pack = [(1,1),(2,1),(3,1),(4,1),(5,1),(6,1),(7,1),(8,1),(9,1),(10,1),(11,1),(12,1),(13,1)] + [(1,2),(2,2),(3,2),(4,2),(5,2),(6,2),(7,2),(8,2),(9,2),(10,2),(11,2),(12,2),(13,2)] +  [(1,3),(2,3),(3,3),(4,3),(5,3),(6,3),(7,3),(8,3),(9,3),(10,3),(11,3),(12,3),(13,3)] +  [(1,4),(2,4),(3,4),(4,4),(5,4),(6,4),(7,4),(8,4),(9,4),(10,4),(11,4),(12,4),(13,4)]\n",
        "    pack.sort()\n",
        "    #antes = [25,50,100,200]\n",
        "    player_card = []\n",
        "    community_card = []\n",
        "    for i in range(2):\n",
        "        p = random.choice(pack)\n",
        "        pack.remove(p)\n",
        "        player_card.append(p)\n",
        "    for i in range(3):\n",
        "        c = random.choice(pack)\n",
        "        pack.remove(c)\n",
        "        community_card.append(c)\n",
        "    ante = 100\n",
        "    return player_card, community_card, ante"
      ],
      "execution_count": 3,
      "outputs": []
    },
    {
      "cell_type": "code",
      "metadata": {
        "id": "GoyhJOCR-b-U",
        "colab": {
          "base_uri": "https://localhost:8080/"
        },
        "outputId": "258974c9-2cf9-4044-e07a-69a02412e03c"
      },
      "source": [
        "draw()"
      ],
      "execution_count": 4,
      "outputs": [
        {
          "output_type": "execute_result",
          "data": {
            "text/plain": [
              "([(12, 2), (7, 4)], [(6, 2), (4, 3), (2, 4)], 100)"
            ]
          },
          "metadata": {
            "tags": []
          },
          "execution_count": 4
        }
      ]
    },
    {
      "cell_type": "markdown",
      "metadata": {
        "id": "VWmd1RH6-b-V"
      },
      "source": [
        "### Output table for draw ###"
      ]
    },
    {
      "cell_type": "code",
      "metadata": {
        "id": "Wdqc2Xw0-b-V"
      },
      "source": [
        "df1 = pd.DataFrame(columns = ['draw output'])\n",
        "for i in range(5):\n",
        "    df1 = df1.append({'draw output': draw()}, ignore_index = True)"
      ],
      "execution_count": 5,
      "outputs": []
    },
    {
      "cell_type": "code",
      "metadata": {
        "id": "veiivVn5-b-W",
        "colab": {
          "base_uri": "https://localhost:8080/",
          "height": 204
        },
        "outputId": "c34e3ec3-436a-497f-e49c-4cf3a80c87f5"
      },
      "source": [
        "df1"
      ],
      "execution_count": 6,
      "outputs": [
        {
          "output_type": "execute_result",
          "data": {
            "text/html": [
              "<div>\n",
              "<style scoped>\n",
              "    .dataframe tbody tr th:only-of-type {\n",
              "        vertical-align: middle;\n",
              "    }\n",
              "\n",
              "    .dataframe tbody tr th {\n",
              "        vertical-align: top;\n",
              "    }\n",
              "\n",
              "    .dataframe thead th {\n",
              "        text-align: right;\n",
              "    }\n",
              "</style>\n",
              "<table border=\"1\" class=\"dataframe\">\n",
              "  <thead>\n",
              "    <tr style=\"text-align: right;\">\n",
              "      <th></th>\n",
              "      <th>draw output</th>\n",
              "    </tr>\n",
              "  </thead>\n",
              "  <tbody>\n",
              "    <tr>\n",
              "      <th>0</th>\n",
              "      <td>([(11, 3), (10, 1)], [(2, 1), (2, 4), (10, 4)], 100)</td>\n",
              "    </tr>\n",
              "    <tr>\n",
              "      <th>1</th>\n",
              "      <td>([(10, 2), (5, 4)], [(6, 2), (2, 3), (3, 1)], 100)</td>\n",
              "    </tr>\n",
              "    <tr>\n",
              "      <th>2</th>\n",
              "      <td>([(7, 1), (5, 2)], [(1, 2), (6, 3), (5, 3)], 100)</td>\n",
              "    </tr>\n",
              "    <tr>\n",
              "      <th>3</th>\n",
              "      <td>([(7, 2), (3, 1)], [(9, 1), (11, 3), (5, 2)], 100)</td>\n",
              "    </tr>\n",
              "    <tr>\n",
              "      <th>4</th>\n",
              "      <td>([(3, 3), (13, 1)], [(6, 4), (9, 3), (2, 3)], 100)</td>\n",
              "    </tr>\n",
              "  </tbody>\n",
              "</table>\n",
              "</div>"
            ],
            "text/plain": [
              "                                            draw output\n",
              "0  ([(11, 3), (10, 1)], [(2, 1), (2, 4), (10, 4)], 100)\n",
              "1    ([(10, 2), (5, 4)], [(6, 2), (2, 3), (3, 1)], 100)\n",
              "2     ([(7, 1), (5, 2)], [(1, 2), (6, 3), (5, 3)], 100)\n",
              "3    ([(7, 2), (3, 1)], [(9, 1), (11, 3), (5, 2)], 100)\n",
              "4    ([(3, 3), (13, 1)], [(6, 4), (9, 3), (2, 3)], 100)"
            ]
          },
          "metadata": {
            "tags": []
          },
          "execution_count": 6
        }
      ]
    },
    {
      "cell_type": "markdown",
      "metadata": {
        "id": "pioQaXfm-b-W"
      },
      "source": [
        "This verifies that my draw() is working properly."
      ]
    },
    {
      "cell_type": "markdown",
      "metadata": {
        "id": "zUTkOtTVFmRy"
      },
      "source": [
        "### 2. Step method ###"
      ]
    },
    {
      "cell_type": "code",
      "metadata": {
        "id": "B_5osP2b-b-W"
      },
      "source": [
        "#method takes as an input a state s and an action, and returns a sample of the next state s’ and reward r\n",
        "def step(state, action,com_card):\n",
        "    #state: ([turned over cards], ante)\n",
        "    cards = state[0]\n",
        "    ante = state[1]\n",
        "    if action == 0 or action == 'fold':\n",
        "        return ('terminal', (0-ante))\n",
        "    if action == 1 or action == \"bet1\":\n",
        "        ante = ante\n",
        "        com = com_card[0]\n",
        "        com_card = com_card[1:]\n",
        "        next_cards = cards + [com]\n",
        "        next_state = (next_cards,ante)\n",
        "        reward = 0\n",
        "    if action == 2 or action == \"bet2\":\n",
        "        ante = ante*2\n",
        "        com = com_card[0]\n",
        "        com_card = com_card[1:]\n",
        "        next_cards = cards + [com]\n",
        "        next_state = (next_cards,ante)\n",
        "        reward = 0\n",
        "    if action == 3 or action == \"bet3\":\n",
        "        ante = ante*3\n",
        "        com = com_card[0]\n",
        "        com_card = com_card[1:]\n",
        "        next_cards = cards + [com]\n",
        "        next_state = (next_cards,ante)\n",
        "        reward = 0\n",
        "    if len(next_cards) == 5:\n",
        "        reward = pay_table(next_cards,ante)\n",
        "        return ('terminal',reward)\n",
        "    return (next_state,reward)\n",
        "    \n",
        "        \n",
        "        "
      ],
      "execution_count": 7,
      "outputs": []
    },
    {
      "cell_type": "code",
      "metadata": {
        "id": "2mXeah9W-b-X"
      },
      "source": [
        "def pay_table(cards,ante):\n",
        "    value = [cards[i][0] for i in range(len(cards))]\n",
        "    color = [cards[i][1] for i in range(len(cards))]\n",
        "    value.sort()\n",
        "    color.sort()\n",
        "    same_color = True\n",
        "    for i in range(0,len(color)-1):\n",
        "        if color[i] != color [i+1]:\n",
        "            same_color = False\n",
        "    # Royal Flush\n",
        "    if value == [1,10,11,12,13] and same_color == True:\n",
        "        return 500*ante\n",
        "    consecutive = True\n",
        "    for i in range(0,len(color)-1):\n",
        "        if value[i+1] != value[i]+1:\n",
        "            consecutive = False\n",
        "    #Straight Flush\n",
        "    if consecutive == True and same_color == True:\n",
        "        return 100*ante\n",
        "    \n",
        "    #Four of a kind\n",
        "    if True in [value.count(val) == 4 for val in value]:\n",
        "        return 40*ante\n",
        "    #Full House\n",
        "    if True in [value.count(val) == 3 for val in value] and True in [value.count(val) == 2 for val in value]:\n",
        "        return 10*ante\n",
        "    #Flush\n",
        "    if same_color == True:\n",
        "        return 6*ante\n",
        "    #Straight\n",
        "    if consecutive == True:\n",
        "        return 4*ante\n",
        "    three_a_kind = False\n",
        "    #Three of a Kind\n",
        "    if True in [value.count(val) == 3 for val in value]:\n",
        "        return 3*ante\n",
        "    pairs = [i for i in value if value.count(i)==2]\n",
        "    #Two Pairs\n",
        "    if len(pairs)==4:\n",
        "           return 2*ante\n",
        "    #Pair of Jacks or Better\n",
        "    if True in [i in pairs for i in [11,12,13,1]]:\n",
        "        return 1*ante\n",
        "    #Pair of 6s thre 10s\n",
        "    if True in [i in pairs for i in [6,7,8,9,10]]:\n",
        "        return 0\n",
        "    #otherwise\n",
        "    return (0-ante)\n",
        "    \n",
        "    \n",
        "    \n",
        "        \n",
        "    "
      ],
      "execution_count": 8,
      "outputs": []
    },
    {
      "cell_type": "code",
      "metadata": {
        "id": "xzDJwQsS-b-a"
      },
      "source": [
        "test_input = [[([(11, 4), (12, 3),(6, 2), (10, 1)],100),'bet1', [ (7, 2)]],[([(11, 4), (12, 4),(13, 4), (1, 4)],100),'bet2', [(10, 4)]],[([(11, 2), (8, 3),(6, 2)],100),'bet2', [(10, 3), (7, 2)]],[([(11, 4), (10, 4),(9, 4), (8, 4)],100),'bet3', [ (7, 4)]],[([(3, 4), (3, 3),(3, 2), (10, 1)],100),'bet2', [ (3, 2)]],[([(1, 4), (3, 3),(6, 2), (10, 1)],100),'bet1', [ (1, 2)]]]"
      ],
      "execution_count": 9,
      "outputs": []
    },
    {
      "cell_type": "code",
      "metadata": {
        "id": "kz7he4jT-b-b",
        "scrolled": true,
        "colab": {
          "base_uri": "https://localhost:8080/"
        },
        "outputId": "eb80c5af-37ce-4d57-bbeb-bdad94cb94ea"
      },
      "source": [
        "for i in test_input:\n",
        "    print(i)\n",
        "    print(step(i[0],i[1],i[2]))"
      ],
      "execution_count": 10,
      "outputs": [
        {
          "output_type": "stream",
          "text": [
            "[([(11, 4), (12, 3), (6, 2), (10, 1)], 100), 'bet1', [(7, 2)]]\n",
            "('terminal', -100)\n",
            "[([(11, 4), (12, 4), (13, 4), (1, 4)], 100), 'bet2', [(10, 4)]]\n",
            "('terminal', 100000)\n",
            "[([(11, 2), (8, 3), (6, 2)], 100), 'bet2', [(10, 3), (7, 2)]]\n",
            "(([(11, 2), (8, 3), (6, 2), (10, 3)], 200), 0)\n",
            "[([(11, 4), (10, 4), (9, 4), (8, 4)], 100), 'bet3', [(7, 4)]]\n",
            "('terminal', 30000)\n",
            "[([(3, 4), (3, 3), (3, 2), (10, 1)], 100), 'bet2', [(3, 2)]]\n",
            "('terminal', 8000)\n",
            "[([(1, 4), (3, 3), (6, 2), (10, 1)], 100), 'bet1', [(1, 2)]]\n",
            "('terminal', 100)\n"
          ],
          "name": "stdout"
        }
      ]
    },
    {
      "cell_type": "code",
      "metadata": {
        "id": "qu6Pl6C3-b-b"
      },
      "source": [
        "expected = [('terminal', -100),('terminal', 100000),(([(11, 2), (8, 3), (6, 2), (10, 3)], 200), 0),('terminal', 30000),('terminal', 8000),('terminal', 100)]\n",
        "df2 = pd.DataFrame(columns = ['input','actual_output','expected_output'])\n",
        "for i in range(len(test_input)):\n",
        "    result = step(test_input[i][0],test_input[i][1],test_input[i][2])\n",
        "    df2 = df2.append({'input':test_input[i], 'actual_output':result,'expected_output':expected[i]}, ignore_index = True)\n",
        "    "
      ],
      "execution_count": 11,
      "outputs": []
    },
    {
      "cell_type": "markdown",
      "metadata": {
        "id": "6YZGVcmO-b-c"
      },
      "source": [
        "### Input and output table for step() ###"
      ]
    },
    {
      "cell_type": "code",
      "metadata": {
        "id": "MzW8ilJp-b-c",
        "colab": {
          "base_uri": "https://localhost:8080/",
          "height": 235
        },
        "outputId": "39d5eef3-83a2-45db-9ade-ba277019ff69"
      },
      "source": [
        "df2"
      ],
      "execution_count": 12,
      "outputs": [
        {
          "output_type": "execute_result",
          "data": {
            "text/html": [
              "<div>\n",
              "<style scoped>\n",
              "    .dataframe tbody tr th:only-of-type {\n",
              "        vertical-align: middle;\n",
              "    }\n",
              "\n",
              "    .dataframe tbody tr th {\n",
              "        vertical-align: top;\n",
              "    }\n",
              "\n",
              "    .dataframe thead th {\n",
              "        text-align: right;\n",
              "    }\n",
              "</style>\n",
              "<table border=\"1\" class=\"dataframe\">\n",
              "  <thead>\n",
              "    <tr style=\"text-align: right;\">\n",
              "      <th></th>\n",
              "      <th>input</th>\n",
              "      <th>actual_output</th>\n",
              "      <th>expected_output</th>\n",
              "    </tr>\n",
              "  </thead>\n",
              "  <tbody>\n",
              "    <tr>\n",
              "      <th>0</th>\n",
              "      <td>[([(11, 4), (12, 3), (6, 2), (10, 1)], 100), bet1, [(7, 2)]]</td>\n",
              "      <td>(terminal, -100)</td>\n",
              "      <td>(terminal, -100)</td>\n",
              "    </tr>\n",
              "    <tr>\n",
              "      <th>1</th>\n",
              "      <td>[([(11, 4), (12, 4), (13, 4), (1, 4)], 100), bet2, [(10, 4)]]</td>\n",
              "      <td>(terminal, 100000)</td>\n",
              "      <td>(terminal, 100000)</td>\n",
              "    </tr>\n",
              "    <tr>\n",
              "      <th>2</th>\n",
              "      <td>[([(11, 2), (8, 3), (6, 2)], 100), bet2, [(10, 3), (7, 2)]]</td>\n",
              "      <td>(([(11, 2), (8, 3), (6, 2), (10, 3)], 200), 0)</td>\n",
              "      <td>(([(11, 2), (8, 3), (6, 2), (10, 3)], 200), 0)</td>\n",
              "    </tr>\n",
              "    <tr>\n",
              "      <th>3</th>\n",
              "      <td>[([(11, 4), (10, 4), (9, 4), (8, 4)], 100), bet3, [(7, 4)]]</td>\n",
              "      <td>(terminal, 30000)</td>\n",
              "      <td>(terminal, 30000)</td>\n",
              "    </tr>\n",
              "    <tr>\n",
              "      <th>4</th>\n",
              "      <td>[([(3, 4), (3, 3), (3, 2), (10, 1)], 100), bet2, [(3, 2)]]</td>\n",
              "      <td>(terminal, 8000)</td>\n",
              "      <td>(terminal, 8000)</td>\n",
              "    </tr>\n",
              "    <tr>\n",
              "      <th>5</th>\n",
              "      <td>[([(1, 4), (3, 3), (6, 2), (10, 1)], 100), bet1, [(1, 2)]]</td>\n",
              "      <td>(terminal, 100)</td>\n",
              "      <td>(terminal, 100)</td>\n",
              "    </tr>\n",
              "  </tbody>\n",
              "</table>\n",
              "</div>"
            ],
            "text/plain": [
              "                                                           input  ...                                 expected_output\n",
              "0   [([(11, 4), (12, 3), (6, 2), (10, 1)], 100), bet1, [(7, 2)]]  ...                                (terminal, -100)\n",
              "1  [([(11, 4), (12, 4), (13, 4), (1, 4)], 100), bet2, [(10, 4)]]  ...                              (terminal, 100000)\n",
              "2    [([(11, 2), (8, 3), (6, 2)], 100), bet2, [(10, 3), (7, 2)]]  ...  (([(11, 2), (8, 3), (6, 2), (10, 3)], 200), 0)\n",
              "3    [([(11, 4), (10, 4), (9, 4), (8, 4)], 100), bet3, [(7, 4)]]  ...                               (terminal, 30000)\n",
              "4     [([(3, 4), (3, 3), (3, 2), (10, 1)], 100), bet2, [(3, 2)]]  ...                                (terminal, 8000)\n",
              "5     [([(1, 4), (3, 3), (6, 2), (10, 1)], 100), bet1, [(1, 2)]]  ...                                 (terminal, 100)\n",
              "\n",
              "[6 rows x 3 columns]"
            ]
          },
          "metadata": {
            "tags": []
          },
          "execution_count": 12
        }
      ]
    },
    {
      "cell_type": "markdown",
      "metadata": {
        "id": "DJS_OIcQ-b-d"
      },
      "source": [
        "This verifies that my environment is working properly."
      ]
    },
    {
      "cell_type": "code",
      "metadata": {
        "id": "Dr7p7sHI-b-d"
      },
      "source": [
        "#helper method to implement epsilon-greedy strategy\n",
        "def ep_greedy(epsilon,Q,state):\n",
        "    # fold, bet1, bet2, bet3\n",
        "    actions = [0,1,2,3]\n",
        "    prob = np.random.random()\n",
        "    #nongreedy method:\n",
        "    if prob < epsilon:\n",
        "        A = random.choice(actions)\n",
        "    else:\n",
        "        [a,b,c,d] = find_index(state,Q)\n",
        "        #now index contains all turned-over cards information\n",
        "        ante_ind = int(state[1]/100)-1\n",
        "        \n",
        "        \n",
        "        action_index = np.argmax(Q[a,b,c,d,ante_ind])\n",
        "        A = actions[action_index]\n",
        "    return A"
      ],
      "execution_count": 13,
      "outputs": []
    },
    {
      "cell_type": "code",
      "metadata": {
        "id": "h3oBkKeQ-b-d"
      },
      "source": [
        "#helper method to find index for input state\n",
        "def find_index (state,Q):\n",
        "    turned_card = state[0]\n",
        "    num_card = len(state[0])\n",
        "    index = []\n",
        "    for i in turned_card:\n",
        "        val = i[0]\n",
        "        typ = i[1]\n",
        "        card_index = 13*(typ - 1) + val\n",
        "        index.append(card_index)\n",
        "\n",
        "      \n",
        "    #if there are non-flipped cards:\n",
        "    if len(index)<4:\n",
        "        left = 4-len(index)\n",
        "        for i in range(left):\n",
        "            index.append(0)\n",
        "    return index"
      ],
      "execution_count": 14,
      "outputs": []
    },
    {
      "cell_type": "markdown",
      "metadata": {
        "id": "xLmw8BPdfVoS"
      },
      "source": [
        "### 3. Q_learning algorithm ###"
      ]
    },
    {
      "cell_type": "code",
      "metadata": {
        "id": "bXzzi-dpZ3uw"
      },
      "source": [
        "def Q_learning(alpha,epsilon,gamma,episode_num,max_steps):\n",
        "    q_values = np.zeros([13*4+1, 13*4+1, 13*4+1, 13*4+1, 3*3,4],dtype = np.float32)\n",
        "    for i in range(episode_num):\n",
        "        #initialize state\n",
        "        player_card, com_card, ante = draw()\n",
        "        state = (player_card, ante)\n",
        "        for i in range(max_steps):\n",
        "            # Select action based on epsilon greedy\n",
        "            action = ep_greedy(epsilon,q_values,state)\n",
        "            #take action, observe s,r\n",
        "            (next_state,reward) = step(state, action,com_card)\n",
        "            com_card = com_card[1:]\n",
        "            [a1,b1,c1,d1] = find_index(state,q_values)\n",
        "            #now index contains all turned-over cards information\n",
        "            ante_ind = int(state[1]/100)-1\n",
        "            if next_state != 'terminal':\n",
        "                #find index for next state\n",
        "                [a2,b2,c2,d2] = find_index(next_state,q_values)\n",
        "                next_ante_ind = int(next_state[1]/100)-1                \n",
        "                q_values[a1,b1,c1,d1,ante_ind,action] += alpha*(reward + gamma*np.max(q_values[a2,b2,c2,d2,next_ante_ind]) - q_values[a1,b1,c1,d1,ante_ind,action]) \n",
        "                #print(alpha*(reward + gamma*np.max(q_values[a2,b2,c2,d2,next_ante_ind]) - q_values[a1,b1,c1,d1,ante_ind,action]) )\n",
        "                state = next_state\n",
        "            else:\n",
        "                q_values[a1,b1,c1,d1,ante_ind,action] += alpha*(reward + gamma*0 - q_values[a1,b1,c1,d1,ante_ind,action])\n",
        "                break\n",
        "    return q_values\n"
      ],
      "execution_count": 16,
      "outputs": []
    },
    {
      "cell_type": "code",
      "metadata": {
        "id": "21lP-Tq7wmwE"
      },
      "source": [
        "Q_learn = Q_learning(0.01,0.1,0.1,1000000,10)"
      ],
      "execution_count": 17,
      "outputs": []
    },
    {
      "cell_type": "code",
      "metadata": {
        "colab": {
          "base_uri": "https://localhost:8080/"
        },
        "id": "j5cqViVZj2gx",
        "outputId": "187c96a1-8108-4bca-8c60-30483cc21911"
      },
      "source": [
        ""
      ],
      "execution_count": 45,
      "outputs": [
        {
          "output_type": "execute_result",
          "data": {
            "text/plain": [
              "53"
            ]
          },
          "metadata": {
            "tags": []
          },
          "execution_count": 45
        }
      ]
    },
    {
      "cell_type": "markdown",
      "metadata": {
        "id": "SZZaSKFOdnyN"
      },
      "source": [
        " Visualize the optimal action for Q learning "
      ]
    },
    {
      "cell_type": "code",
      "metadata": {
        "id": "g5ceAq5tbqTf"
      },
      "source": [
        "result_qlearn1 = [] #positive r\n",
        "result_qlearn2 = [] #negative r\n",
        "for i in range(53):\n",
        "  for j in range(53):\n",
        "    for k in range(53):\n",
        "      for h in range(53):\n",
        "        for g in range(9): #ante\n",
        "          #for f in range(4): #action\n",
        "          action = np.argmax(Q_learn[i][j][k][h][g])\n",
        "          r = Q_learn[i][j][k][h][g][action]\n",
        "          if r > 0:\n",
        "            result_qlearn1.append({\"card1\":i,\"card2\":j,\"card3\":k,\"card4\":h,\"ante\":g,\"action\":action,\"reward\":r})\n",
        "          elif r < 0:\n",
        "            result_qlearn2.append({\"card1\":i,\"card2\":j,\"card3\":k,\"card4\":h,\"ante\":g,\"action\":action,\"reward\":r})\n",
        "            \n",
        "\n"
      ],
      "execution_count": 19,
      "outputs": []
    },
    {
      "cell_type": "code",
      "metadata": {
        "colab": {
          "base_uri": "https://localhost:8080/"
        },
        "id": "snif23VJBzG1",
        "outputId": "752c1243-a00e-40c7-8bc1-acdd34ce9ab0"
      },
      "source": [
        "#randomly choose 10 state-action pairs from the positive case and negative case respectively\n",
        "positive1 = random.sample(result_qlearn1,10)\n",
        "negative1 = random.sample(result_qlearn2,10)\n",
        "negative1\n"
      ],
      "execution_count": 43,
      "outputs": [
        {
          "output_type": "execute_result",
          "data": {
            "text/plain": [
              "[{'action': 0,\n",
              "  'ante': 0,\n",
              "  'card1': 24,\n",
              "  'card2': 42,\n",
              "  'card3': 8,\n",
              "  'card4': 19,\n",
              "  'reward': -1.0},\n",
              " {'action': 0,\n",
              "  'ante': 0,\n",
              "  'card1': 52,\n",
              "  'card2': 18,\n",
              "  'card3': 30,\n",
              "  'card4': 2,\n",
              "  'reward': -1.0},\n",
              " {'action': 0,\n",
              "  'ante': 0,\n",
              "  'card1': 41,\n",
              "  'card2': 28,\n",
              "  'card3': 37,\n",
              "  'card4': 1,\n",
              "  'reward': -1.0},\n",
              " {'action': 0,\n",
              "  'ante': 0,\n",
              "  'card1': 15,\n",
              "  'card2': 28,\n",
              "  'card3': 52,\n",
              "  'card4': 43,\n",
              "  'reward': -1.0},\n",
              " {'action': 0,\n",
              "  'ante': 0,\n",
              "  'card1': 46,\n",
              "  'card2': 50,\n",
              "  'card3': 41,\n",
              "  'card4': 26,\n",
              "  'reward': -1.0},\n",
              " {'action': 0,\n",
              "  'ante': 0,\n",
              "  'card1': 15,\n",
              "  'card2': 37,\n",
              "  'card3': 46,\n",
              "  'card4': 8,\n",
              "  'reward': -1.0},\n",
              " {'action': 0,\n",
              "  'ante': 0,\n",
              "  'card1': 6,\n",
              "  'card2': 8,\n",
              "  'card3': 39,\n",
              "  'card4': 12,\n",
              "  'reward': -1.0},\n",
              " {'action': 0,\n",
              "  'ante': 0,\n",
              "  'card1': 14,\n",
              "  'card2': 4,\n",
              "  'card3': 32,\n",
              "  'card4': 28,\n",
              "  'reward': -1.0},\n",
              " {'action': 0,\n",
              "  'ante': 0,\n",
              "  'card1': 36,\n",
              "  'card2': 7,\n",
              "  'card3': 3,\n",
              "  'card4': 47,\n",
              "  'reward': -1.0},\n",
              " {'action': 0,\n",
              "  'ante': 0,\n",
              "  'card1': 7,\n",
              "  'card2': 4,\n",
              "  'card3': 22,\n",
              "  'card4': 27,\n",
              "  'reward': -1.0}]"
            ]
          },
          "metadata": {
            "tags": []
          },
          "execution_count": 43
        }
      ]
    },
    {
      "cell_type": "code",
      "metadata": {
        "colab": {
          "base_uri": "https://localhost:8080/",
          "height": 669
        },
        "id": "jtEBCqAMEOc_",
        "outputId": "528617d6-76f7-42f8-b5b2-b35a930a5e3b"
      },
      "source": [
        "df3 = pd.DataFrame(columns = ['card1','card2','card3','card4','ante','action','value'])\n",
        "for i in positive1:\n",
        "    df3 = df3.append({'card1': i['card1'],'card2':i['card2'],'card3':i['card3'],'card4':i['card4'],'ante':i['ante'],'action':i['action'],'value':i['reward']}, ignore_index = True)\n",
        "for i in negative1:\n",
        "    df3 = df3.append({'card1': i['card1'],'card2':i['card2'],'card3':i['card3'],'card4':i['card4'],'ante':i['ante'],'action':i['action'],'value':i['reward']}, ignore_index = True)\n",
        "df3\n",
        "    "
      ],
      "execution_count": 44,
      "outputs": [
        {
          "output_type": "execute_result",
          "data": {
            "text/html": [
              "<div>\n",
              "<style scoped>\n",
              "    .dataframe tbody tr th:only-of-type {\n",
              "        vertical-align: middle;\n",
              "    }\n",
              "\n",
              "    .dataframe tbody tr th {\n",
              "        vertical-align: top;\n",
              "    }\n",
              "\n",
              "    .dataframe thead th {\n",
              "        text-align: right;\n",
              "    }\n",
              "</style>\n",
              "<table border=\"1\" class=\"dataframe\">\n",
              "  <thead>\n",
              "    <tr style=\"text-align: right;\">\n",
              "      <th></th>\n",
              "      <th>card1</th>\n",
              "      <th>card2</th>\n",
              "      <th>card3</th>\n",
              "      <th>card4</th>\n",
              "      <th>ante</th>\n",
              "      <th>action</th>\n",
              "      <th>value</th>\n",
              "    </tr>\n",
              "  </thead>\n",
              "  <tbody>\n",
              "    <tr>\n",
              "      <th>0</th>\n",
              "      <td>33.0</td>\n",
              "      <td>24.0</td>\n",
              "      <td>11.0</td>\n",
              "      <td>18.0</td>\n",
              "      <td>0.0</td>\n",
              "      <td>1.0</td>\n",
              "      <td>1.000000</td>\n",
              "    </tr>\n",
              "    <tr>\n",
              "      <th>1</th>\n",
              "      <td>16.0</td>\n",
              "      <td>37.0</td>\n",
              "      <td>12.0</td>\n",
              "      <td>38.0</td>\n",
              "      <td>0.0</td>\n",
              "      <td>2.0</td>\n",
              "      <td>2.000000</td>\n",
              "    </tr>\n",
              "    <tr>\n",
              "      <th>2</th>\n",
              "      <td>46.0</td>\n",
              "      <td>9.0</td>\n",
              "      <td>11.0</td>\n",
              "      <td>25.0</td>\n",
              "      <td>0.0</td>\n",
              "      <td>3.0</td>\n",
              "      <td>3.000000</td>\n",
              "    </tr>\n",
              "    <tr>\n",
              "      <th>3</th>\n",
              "      <td>22.0</td>\n",
              "      <td>39.0</td>\n",
              "      <td>11.0</td>\n",
              "      <td>28.0</td>\n",
              "      <td>0.0</td>\n",
              "      <td>1.0</td>\n",
              "      <td>1.000000</td>\n",
              "    </tr>\n",
              "    <tr>\n",
              "      <th>4</th>\n",
              "      <td>14.0</td>\n",
              "      <td>26.0</td>\n",
              "      <td>21.0</td>\n",
              "      <td>11.0</td>\n",
              "      <td>0.0</td>\n",
              "      <td>1.0</td>\n",
              "      <td>1.000000</td>\n",
              "    </tr>\n",
              "    <tr>\n",
              "      <th>5</th>\n",
              "      <td>18.0</td>\n",
              "      <td>49.0</td>\n",
              "      <td>10.0</td>\n",
              "      <td>0.0</td>\n",
              "      <td>0.0</td>\n",
              "      <td>1.0</td>\n",
              "      <td>0.003728</td>\n",
              "    </tr>\n",
              "    <tr>\n",
              "      <th>6</th>\n",
              "      <td>51.0</td>\n",
              "      <td>41.0</td>\n",
              "      <td>25.0</td>\n",
              "      <td>0.0</td>\n",
              "      <td>0.0</td>\n",
              "      <td>1.0</td>\n",
              "      <td>0.002000</td>\n",
              "    </tr>\n",
              "    <tr>\n",
              "      <th>7</th>\n",
              "      <td>14.0</td>\n",
              "      <td>26.0</td>\n",
              "      <td>13.0</td>\n",
              "      <td>12.0</td>\n",
              "      <td>0.0</td>\n",
              "      <td>1.0</td>\n",
              "      <td>1.000000</td>\n",
              "    </tr>\n",
              "    <tr>\n",
              "      <th>8</th>\n",
              "      <td>40.0</td>\n",
              "      <td>8.0</td>\n",
              "      <td>29.0</td>\n",
              "      <td>33.0</td>\n",
              "      <td>0.0</td>\n",
              "      <td>1.0</td>\n",
              "      <td>1.000000</td>\n",
              "    </tr>\n",
              "    <tr>\n",
              "      <th>9</th>\n",
              "      <td>41.0</td>\n",
              "      <td>1.0</td>\n",
              "      <td>25.0</td>\n",
              "      <td>27.0</td>\n",
              "      <td>0.0</td>\n",
              "      <td>2.0</td>\n",
              "      <td>2.000000</td>\n",
              "    </tr>\n",
              "    <tr>\n",
              "      <th>10</th>\n",
              "      <td>24.0</td>\n",
              "      <td>42.0</td>\n",
              "      <td>8.0</td>\n",
              "      <td>19.0</td>\n",
              "      <td>0.0</td>\n",
              "      <td>0.0</td>\n",
              "      <td>-1.000000</td>\n",
              "    </tr>\n",
              "    <tr>\n",
              "      <th>11</th>\n",
              "      <td>52.0</td>\n",
              "      <td>18.0</td>\n",
              "      <td>30.0</td>\n",
              "      <td>2.0</td>\n",
              "      <td>0.0</td>\n",
              "      <td>0.0</td>\n",
              "      <td>-1.000000</td>\n",
              "    </tr>\n",
              "    <tr>\n",
              "      <th>12</th>\n",
              "      <td>41.0</td>\n",
              "      <td>28.0</td>\n",
              "      <td>37.0</td>\n",
              "      <td>1.0</td>\n",
              "      <td>0.0</td>\n",
              "      <td>0.0</td>\n",
              "      <td>-1.000000</td>\n",
              "    </tr>\n",
              "    <tr>\n",
              "      <th>13</th>\n",
              "      <td>15.0</td>\n",
              "      <td>28.0</td>\n",
              "      <td>52.0</td>\n",
              "      <td>43.0</td>\n",
              "      <td>0.0</td>\n",
              "      <td>0.0</td>\n",
              "      <td>-1.000000</td>\n",
              "    </tr>\n",
              "    <tr>\n",
              "      <th>14</th>\n",
              "      <td>46.0</td>\n",
              "      <td>50.0</td>\n",
              "      <td>41.0</td>\n",
              "      <td>26.0</td>\n",
              "      <td>0.0</td>\n",
              "      <td>0.0</td>\n",
              "      <td>-1.000000</td>\n",
              "    </tr>\n",
              "    <tr>\n",
              "      <th>15</th>\n",
              "      <td>15.0</td>\n",
              "      <td>37.0</td>\n",
              "      <td>46.0</td>\n",
              "      <td>8.0</td>\n",
              "      <td>0.0</td>\n",
              "      <td>0.0</td>\n",
              "      <td>-1.000000</td>\n",
              "    </tr>\n",
              "    <tr>\n",
              "      <th>16</th>\n",
              "      <td>6.0</td>\n",
              "      <td>8.0</td>\n",
              "      <td>39.0</td>\n",
              "      <td>12.0</td>\n",
              "      <td>0.0</td>\n",
              "      <td>0.0</td>\n",
              "      <td>-1.000000</td>\n",
              "    </tr>\n",
              "    <tr>\n",
              "      <th>17</th>\n",
              "      <td>14.0</td>\n",
              "      <td>4.0</td>\n",
              "      <td>32.0</td>\n",
              "      <td>28.0</td>\n",
              "      <td>0.0</td>\n",
              "      <td>0.0</td>\n",
              "      <td>-1.000000</td>\n",
              "    </tr>\n",
              "    <tr>\n",
              "      <th>18</th>\n",
              "      <td>36.0</td>\n",
              "      <td>7.0</td>\n",
              "      <td>3.0</td>\n",
              "      <td>47.0</td>\n",
              "      <td>0.0</td>\n",
              "      <td>0.0</td>\n",
              "      <td>-1.000000</td>\n",
              "    </tr>\n",
              "    <tr>\n",
              "      <th>19</th>\n",
              "      <td>7.0</td>\n",
              "      <td>4.0</td>\n",
              "      <td>22.0</td>\n",
              "      <td>27.0</td>\n",
              "      <td>0.0</td>\n",
              "      <td>0.0</td>\n",
              "      <td>-1.000000</td>\n",
              "    </tr>\n",
              "  </tbody>\n",
              "</table>\n",
              "</div>"
            ],
            "text/plain": [
              "    card1  card2  card3  card4  ante  action     value\n",
              "0    33.0   24.0   11.0   18.0   0.0     1.0  1.000000\n",
              "1    16.0   37.0   12.0   38.0   0.0     2.0  2.000000\n",
              "2    46.0    9.0   11.0   25.0   0.0     3.0  3.000000\n",
              "3    22.0   39.0   11.0   28.0   0.0     1.0  1.000000\n",
              "4    14.0   26.0   21.0   11.0   0.0     1.0  1.000000\n",
              "5    18.0   49.0   10.0    0.0   0.0     1.0  0.003728\n",
              "6    51.0   41.0   25.0    0.0   0.0     1.0  0.002000\n",
              "7    14.0   26.0   13.0   12.0   0.0     1.0  1.000000\n",
              "8    40.0    8.0   29.0   33.0   0.0     1.0  1.000000\n",
              "9    41.0    1.0   25.0   27.0   0.0     2.0  2.000000\n",
              "10   24.0   42.0    8.0   19.0   0.0     0.0 -1.000000\n",
              "11   52.0   18.0   30.0    2.0   0.0     0.0 -1.000000\n",
              "12   41.0   28.0   37.0    1.0   0.0     0.0 -1.000000\n",
              "13   15.0   28.0   52.0   43.0   0.0     0.0 -1.000000\n",
              "14   46.0   50.0   41.0   26.0   0.0     0.0 -1.000000\n",
              "15   15.0   37.0   46.0    8.0   0.0     0.0 -1.000000\n",
              "16    6.0    8.0   39.0   12.0   0.0     0.0 -1.000000\n",
              "17   14.0    4.0   32.0   28.0   0.0     0.0 -1.000000\n",
              "18   36.0    7.0    3.0   47.0   0.0     0.0 -1.000000\n",
              "19    7.0    4.0   22.0   27.0   0.0     0.0 -1.000000"
            ]
          },
          "metadata": {
            "tags": []
          },
          "execution_count": 44
        }
      ]
    },
    {
      "cell_type": "markdown",
      "metadata": {
        "id": "OmRnBecGfc3n"
      },
      "source": [
        "### 4. Monte Carlo ES Algorithm ### "
      ]
    },
    {
      "cell_type": "code",
      "metadata": {
        "id": "bbknJPBRykOb"
      },
      "source": [
        "def MCES(episode_nums,gamma):\n",
        "  actions = [0,1,2,3]\n",
        "  pi = np.zeros([13*4+1, 13*4+1, 13*4+1, 13*4+1, 3*3],dtype = np.float32)\n",
        "  q_values = np.zeros([13*4+1, 13*4+1, 13*4+1, 13*4+1, 3*3,4],dtype = np.float32)\n",
        "  Return = np.zeros([13*4+1, 13*4+1, 13*4+1, 13*4+1, 3*3,4],dtype = np.float32)\n",
        "  count_r = np.zeros([13*4+1, 13*4+1, 13*4+1, 13*4+1, 3*3,4],dtype = np.float32)\n",
        "  for i in range(episode_nums):\n",
        "    #randomly initialize state and action\n",
        "    player_card, com_card, ante = draw()\n",
        "    state = (player_card, ante)\n",
        "    action = random.choice(actions)\n",
        "    episode = []\n",
        "    while state != 'terminal':\n",
        "      (next_state,reward) = step(state, action,com_card)\n",
        "      com_card = com_card[1:]\n",
        "      episode.append([state,action,reward])\n",
        "      action = random.choice(actions)\n",
        "      state = next_state\n",
        "    G = 0\n",
        "    #set up prestate to record visited states\n",
        "    prestate = []\n",
        "    for i in range(len(episode)):\n",
        "      prestate.append((episode[i][0],episode[i][1]))\n",
        "    #loop through the episodes:\n",
        "    for t in range(len(episode)-1,-1,-1):#backward\n",
        "      epi = episode[t]\n",
        "      G = gamma*G + epi[2]\n",
        "      State = epi[0]\n",
        "      Action = epi[1]\n",
        "      #update q_values and pi\n",
        "      if (((State,Action) in prestate[:t]) == False):\n",
        "        [a1,b1,c1,d1] = find_index(State,q_values)\n",
        "        ante_id = int(State[1]/100)-1\n",
        "        Return[a1,b1,c1,d1,ante_id,Action] += G\n",
        "        count_r[a1,b1,c1,d1,ante_id,Action] += 1\n",
        "        q_values[a1,b1,c1,d1,ante_id,Action] = Return[a1,b1,c1,d1,ante_id,Action]/count_r[a1,b1,c1,d1,ante_id,Action]\n",
        "\n",
        "        pi[a1,b1,c1,d1,ante_id] = np.argmax(q_values[a1,b1,c1,d1,ante_id])\n",
        "       \n",
        "  return q_values,pi\n",
        "\n",
        "\n"
      ],
      "execution_count": 20,
      "outputs": []
    },
    {
      "cell_type": "code",
      "metadata": {
        "id": "LG0SoScb7Rkk"
      },
      "source": [
        "Q_mc,pi = MCES(1000000,0.1)"
      ],
      "execution_count": 21,
      "outputs": []
    },
    {
      "cell_type": "markdown",
      "metadata": {
        "id": "6XjqRY4qDQMd"
      },
      "source": [
        "Visualize optimal action for Monte Carlo ES algorithm"
      ]
    },
    {
      "cell_type": "code",
      "metadata": {
        "id": "xzQCWK2noPQx"
      },
      "source": [
        "result_qmc1 = [] #positive r\n",
        "result_qmc2 = [] #negative r\n",
        "for i in range(53):\n",
        "  for j in range(53):\n",
        "    for k in range(53):\n",
        "      for h in range(53):\n",
        "        for g in range(9): #ante\n",
        "          #for f in range(4): #action\n",
        "          action = np.argmax(Q_mc[i][j][k][h][g])\n",
        "          r = Q_mc[i][j][k][h][g][action]\n",
        "          if r > 0:\n",
        "            result_qmc1.append({\"card1\":i,\"card2\":j,\"card3\":k,\"card4\":h,\"ante\":g,\"action\":action,\"reward\":r})\n",
        "          elif r < 0:\n",
        "            result_qmc2.append({\"card1\":i,\"card2\":j,\"card3\":k,\"card4\":h,\"ante\":g,\"action\":action,\"reward\":r})"
      ],
      "execution_count": 22,
      "outputs": []
    },
    {
      "cell_type": "code",
      "metadata": {
        "id": "2C1AW_P-GDe5"
      },
      "source": [
        "#randomly choose 10 state-action pairs from the positive case and negative case respectively\n",
        "positive2 = random.sample(result_qmc1,10)\n",
        "negative2 = random.sample(result_qmc2,10)"
      ],
      "execution_count": 41,
      "outputs": []
    },
    {
      "cell_type": "code",
      "metadata": {
        "colab": {
          "base_uri": "https://localhost:8080/",
          "height": 669
        },
        "id": "rGRurBrmGD1n",
        "outputId": "f170d019-a20a-45b0-9867-103f1f07faf1"
      },
      "source": [
        "df4 = pd.DataFrame(columns = ['card1','card2','card3','card4','ante','action','value'])\n",
        "for i in positive2:\n",
        "    df4 = df4.append({'card1': i['card1'],'card2':i['card2'],'card3':i['card3'],'card4':i['card4'],'ante':i['ante'],'action':i['action'],'value':i['reward']}, ignore_index = True)\n",
        "for i in negative2:\n",
        "    df4 = df4.append({'card1': i['card1'],'card2':i['card2'],'card3':i['card3'],'card4':i['card4'],'ante':i['ante'],'action':i['action'],'value':i['reward']}, ignore_index = True)\n",
        "df4\n",
        "  "
      ],
      "execution_count": 42,
      "outputs": [
        {
          "output_type": "execute_result",
          "data": {
            "text/html": [
              "<div>\n",
              "<style scoped>\n",
              "    .dataframe tbody tr th:only-of-type {\n",
              "        vertical-align: middle;\n",
              "    }\n",
              "\n",
              "    .dataframe tbody tr th {\n",
              "        vertical-align: top;\n",
              "    }\n",
              "\n",
              "    .dataframe thead th {\n",
              "        text-align: right;\n",
              "    }\n",
              "</style>\n",
              "<table border=\"1\" class=\"dataframe\">\n",
              "  <thead>\n",
              "    <tr style=\"text-align: right;\">\n",
              "      <th></th>\n",
              "      <th>card1</th>\n",
              "      <th>card2</th>\n",
              "      <th>card3</th>\n",
              "      <th>card4</th>\n",
              "      <th>ante</th>\n",
              "      <th>action</th>\n",
              "      <th>value</th>\n",
              "    </tr>\n",
              "  </thead>\n",
              "  <tbody>\n",
              "    <tr>\n",
              "      <th>0</th>\n",
              "      <td>38.0</td>\n",
              "      <td>18.0</td>\n",
              "      <td>31.0</td>\n",
              "      <td>25.0</td>\n",
              "      <td>5.0</td>\n",
              "      <td>3.0</td>\n",
              "      <td>3600.000000</td>\n",
              "    </tr>\n",
              "    <tr>\n",
              "      <th>1</th>\n",
              "      <td>12.0</td>\n",
              "      <td>50.0</td>\n",
              "      <td>18.0</td>\n",
              "      <td>44.0</td>\n",
              "      <td>5.0</td>\n",
              "      <td>1.0</td>\n",
              "      <td>1800.000000</td>\n",
              "    </tr>\n",
              "    <tr>\n",
              "      <th>2</th>\n",
              "      <td>3.0</td>\n",
              "      <td>38.0</td>\n",
              "      <td>31.0</td>\n",
              "      <td>0.0</td>\n",
              "      <td>0.0</td>\n",
              "      <td>3.0</td>\n",
              "      <td>60.000000</td>\n",
              "    </tr>\n",
              "    <tr>\n",
              "      <th>3</th>\n",
              "      <td>30.0</td>\n",
              "      <td>8.0</td>\n",
              "      <td>47.0</td>\n",
              "      <td>43.0</td>\n",
              "      <td>8.0</td>\n",
              "      <td>1.0</td>\n",
              "      <td>1800.000000</td>\n",
              "    </tr>\n",
              "    <tr>\n",
              "      <th>4</th>\n",
              "      <td>51.0</td>\n",
              "      <td>47.0</td>\n",
              "      <td>40.0</td>\n",
              "      <td>0.0</td>\n",
              "      <td>1.0</td>\n",
              "      <td>1.0</td>\n",
              "      <td>40.000000</td>\n",
              "    </tr>\n",
              "    <tr>\n",
              "      <th>5</th>\n",
              "      <td>2.0</td>\n",
              "      <td>11.0</td>\n",
              "      <td>32.0</td>\n",
              "      <td>1.0</td>\n",
              "      <td>1.0</td>\n",
              "      <td>2.0</td>\n",
              "      <td>400.000000</td>\n",
              "    </tr>\n",
              "    <tr>\n",
              "      <th>6</th>\n",
              "      <td>49.0</td>\n",
              "      <td>28.0</td>\n",
              "      <td>36.0</td>\n",
              "      <td>0.0</td>\n",
              "      <td>1.0</td>\n",
              "      <td>2.0</td>\n",
              "      <td>26.666666</td>\n",
              "    </tr>\n",
              "    <tr>\n",
              "      <th>7</th>\n",
              "      <td>4.0</td>\n",
              "      <td>38.0</td>\n",
              "      <td>14.0</td>\n",
              "      <td>0.0</td>\n",
              "      <td>0.0</td>\n",
              "      <td>1.0</td>\n",
              "      <td>10.000000</td>\n",
              "    </tr>\n",
              "    <tr>\n",
              "      <th>8</th>\n",
              "      <td>40.0</td>\n",
              "      <td>14.0</td>\n",
              "      <td>20.0</td>\n",
              "      <td>26.0</td>\n",
              "      <td>2.0</td>\n",
              "      <td>2.0</td>\n",
              "      <td>600.000000</td>\n",
              "    </tr>\n",
              "    <tr>\n",
              "      <th>9</th>\n",
              "      <td>37.0</td>\n",
              "      <td>50.0</td>\n",
              "      <td>36.0</td>\n",
              "      <td>33.0</td>\n",
              "      <td>5.0</td>\n",
              "      <td>1.0</td>\n",
              "      <td>600.000000</td>\n",
              "    </tr>\n",
              "    <tr>\n",
              "      <th>10</th>\n",
              "      <td>24.0</td>\n",
              "      <td>43.0</td>\n",
              "      <td>7.0</td>\n",
              "      <td>0.0</td>\n",
              "      <td>1.0</td>\n",
              "      <td>1.0</td>\n",
              "      <td>-20.000000</td>\n",
              "    </tr>\n",
              "    <tr>\n",
              "      <th>11</th>\n",
              "      <td>33.0</td>\n",
              "      <td>37.0</td>\n",
              "      <td>45.0</td>\n",
              "      <td>0.0</td>\n",
              "      <td>2.0</td>\n",
              "      <td>1.0</td>\n",
              "      <td>-30.000000</td>\n",
              "    </tr>\n",
              "    <tr>\n",
              "      <th>12</th>\n",
              "      <td>17.0</td>\n",
              "      <td>46.0</td>\n",
              "      <td>38.0</td>\n",
              "      <td>0.0</td>\n",
              "      <td>1.0</td>\n",
              "      <td>1.0</td>\n",
              "      <td>-20.000000</td>\n",
              "    </tr>\n",
              "    <tr>\n",
              "      <th>13</th>\n",
              "      <td>16.0</td>\n",
              "      <td>27.0</td>\n",
              "      <td>13.0</td>\n",
              "      <td>0.0</td>\n",
              "      <td>1.0</td>\n",
              "      <td>1.0</td>\n",
              "      <td>-20.000000</td>\n",
              "    </tr>\n",
              "    <tr>\n",
              "      <th>14</th>\n",
              "      <td>12.0</td>\n",
              "      <td>5.0</td>\n",
              "      <td>36.0</td>\n",
              "      <td>0.0</td>\n",
              "      <td>2.0</td>\n",
              "      <td>1.0</td>\n",
              "      <td>-75.000000</td>\n",
              "    </tr>\n",
              "    <tr>\n",
              "      <th>15</th>\n",
              "      <td>44.0</td>\n",
              "      <td>43.0</td>\n",
              "      <td>18.0</td>\n",
              "      <td>0.0</td>\n",
              "      <td>2.0</td>\n",
              "      <td>1.0</td>\n",
              "      <td>-30.000000</td>\n",
              "    </tr>\n",
              "    <tr>\n",
              "      <th>16</th>\n",
              "      <td>33.0</td>\n",
              "      <td>8.0</td>\n",
              "      <td>0.0</td>\n",
              "      <td>0.0</td>\n",
              "      <td>0.0</td>\n",
              "      <td>1.0</td>\n",
              "      <td>-3.760417</td>\n",
              "    </tr>\n",
              "    <tr>\n",
              "      <th>17</th>\n",
              "      <td>36.0</td>\n",
              "      <td>41.0</td>\n",
              "      <td>18.0</td>\n",
              "      <td>0.0</td>\n",
              "      <td>2.0</td>\n",
              "      <td>2.0</td>\n",
              "      <td>-30.000000</td>\n",
              "    </tr>\n",
              "    <tr>\n",
              "      <th>18</th>\n",
              "      <td>14.0</td>\n",
              "      <td>20.0</td>\n",
              "      <td>0.0</td>\n",
              "      <td>0.0</td>\n",
              "      <td>0.0</td>\n",
              "      <td>1.0</td>\n",
              "      <td>-3.323810</td>\n",
              "    </tr>\n",
              "    <tr>\n",
              "      <th>19</th>\n",
              "      <td>31.0</td>\n",
              "      <td>19.0</td>\n",
              "      <td>0.0</td>\n",
              "      <td>0.0</td>\n",
              "      <td>0.0</td>\n",
              "      <td>1.0</td>\n",
              "      <td>-3.741935</td>\n",
              "    </tr>\n",
              "  </tbody>\n",
              "</table>\n",
              "</div>"
            ],
            "text/plain": [
              "    card1  card2  card3  card4  ante  action        value\n",
              "0    38.0   18.0   31.0   25.0   5.0     3.0  3600.000000\n",
              "1    12.0   50.0   18.0   44.0   5.0     1.0  1800.000000\n",
              "2     3.0   38.0   31.0    0.0   0.0     3.0    60.000000\n",
              "3    30.0    8.0   47.0   43.0   8.0     1.0  1800.000000\n",
              "4    51.0   47.0   40.0    0.0   1.0     1.0    40.000000\n",
              "5     2.0   11.0   32.0    1.0   1.0     2.0   400.000000\n",
              "6    49.0   28.0   36.0    0.0   1.0     2.0    26.666666\n",
              "7     4.0   38.0   14.0    0.0   0.0     1.0    10.000000\n",
              "8    40.0   14.0   20.0   26.0   2.0     2.0   600.000000\n",
              "9    37.0   50.0   36.0   33.0   5.0     1.0   600.000000\n",
              "10   24.0   43.0    7.0    0.0   1.0     1.0   -20.000000\n",
              "11   33.0   37.0   45.0    0.0   2.0     1.0   -30.000000\n",
              "12   17.0   46.0   38.0    0.0   1.0     1.0   -20.000000\n",
              "13   16.0   27.0   13.0    0.0   1.0     1.0   -20.000000\n",
              "14   12.0    5.0   36.0    0.0   2.0     1.0   -75.000000\n",
              "15   44.0   43.0   18.0    0.0   2.0     1.0   -30.000000\n",
              "16   33.0    8.0    0.0    0.0   0.0     1.0    -3.760417\n",
              "17   36.0   41.0   18.0    0.0   2.0     2.0   -30.000000\n",
              "18   14.0   20.0    0.0    0.0   0.0     1.0    -3.323810\n",
              "19   31.0   19.0    0.0    0.0   0.0     1.0    -3.741935"
            ]
          },
          "metadata": {
            "tags": []
          },
          "execution_count": 42
        }
      ]
    },
    {
      "cell_type": "markdown",
      "metadata": {
        "id": "6fWeWR8Sf64K"
      },
      "source": [
        "### 5. Calculate the MSE of these 2 algorithms"
      ]
    },
    {
      "cell_type": "code",
      "metadata": {
        "id": "ykL8kZFP7gq4"
      },
      "source": [
        "#helper method: compute MSE\n",
        "def MSE(Q_learn,Q_mc):\n",
        "    MSE = 0\n",
        "    n = 53*53*53*53*9*4\n",
        "    for i in range(53):\n",
        "      for j in range(53):\n",
        "        for k in range(53):\n",
        "          for h in range(53):\n",
        "            for g in range(9):\n",
        "              for f in range(4):\n",
        "                MSE += (Q_learn[i][j][k][h][g][f]-Q_mc[i][j][k][h][g][f])**2\n",
        "    return MSE/n"
      ],
      "execution_count": 23,
      "outputs": []
    },
    {
      "cell_type": "code",
      "metadata": {
        "colab": {
          "base_uri": "https://localhost:8080/"
        },
        "id": "cnwL7IDbioXD",
        "outputId": "45057d02-6491-4ef4-e25a-3b9f14c1d41b"
      },
      "source": [
        "MSE1 = MSE(Q_learn,Q_mc)\n",
        "print(\"mean-squared error is\", MSE1)"
      ],
      "execution_count": 24,
      "outputs": [
        {
          "output_type": "stream",
          "text": [
            "mean-squared error is 3168.4217590205258\n"
          ],
          "name": "stdout"
        }
      ]
    },
    {
      "cell_type": "code",
      "metadata": {
        "id": "YT-mSVA--xWU"
      },
      "source": [
        "np.set_printoptions(threshold=np.inf)dd"
      ],
      "execution_count": null,
      "outputs": []
    },
    {
      "cell_type": "code",
      "metadata": {
        "id": "nR3SH-ve-b-i"
      },
      "source": [
        ""
      ],
      "execution_count": null,
      "outputs": []
    }
  ]
}